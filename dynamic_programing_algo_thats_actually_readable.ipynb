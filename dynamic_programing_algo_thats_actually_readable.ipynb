{
 "cells": [
  {
   "cell_type": "code",
   "execution_count": 1,
   "metadata": {},
   "outputs": [],
   "source": [
    "import numpy as np\n",
    "import pandas as pd\n",
    "from decimal import Decimal, getcontext\n",
    "import time\n",
    "import copy"
   ]
  },
  {
   "cell_type": "code",
   "execution_count": 2,
   "metadata": {},
   "outputs": [],
   "source": [
    "def printTable(table):\n",
    "    '''A simple way to display matrices in a more readable format'''\n",
    "    for i in table:\n",
    "        print(i)"
   ]
  },
  {
   "cell_type": "code",
   "execution_count": 3,
   "metadata": {},
   "outputs": [],
   "source": [
    "def evaluate_util(player_row):\n",
    "    if players[player_row -1][4] == True:\n",
    "        restOfROI_main_role = combos[(centers - 1, wings, defenders, goalies, utils)][player_row - 1][budget_interval - players[player_row - 1][1]]\n",
    "        restOfROI_util = combos[(centers, wings, defenders, goalies, utils - 1)][player_row - 1][budget_interval - players[player_row - 1][1]]"
   ]
  },
  {
   "cell_type": "code",
   "execution_count": 4,
   "metadata": {},
   "outputs": [],
   "source": [
    "def get_optimal_set(players_list, budget, inc, limits):\n",
    "    '''Uses a Dynamic Programming Algorithm to get the maximum number of points scored on a fantasy hockey team,\n",
    "    constrained by salary cap (budget) and limits on positions (only 3 centers, 2 wings, etc.)'''\n",
    "    \n",
    "    ## inputs\n",
    "    # players_list--a list of lists: player name, salary, expected points, position--ex:['Nathan MacKinnon', 9000, 14.94, 'C']\n",
    "    # budget -- a total budget/salary cap--ex:50000\n",
    "    # inc -- an increment that you go up/down by when you use the algorithm--ex:100 \n",
    "    # limits -- a dictionary of constraints for each position--ex:{\"C\": 2,\"W\": 3 ,\"D\" : 2,\"G\": 1}\n",
    "    \n",
    "    ## first we divide all working money sums by the increment\n",
    "    ## This allows us to control the granularity of the algorith\n",
    "    players = [[player[0], int(int(player[1])/inc), player[2], player[3]] for player in players_list]\n",
    "    budget = int(budget / inc)\n",
    "\n",
    "\n",
    "    ## we get our number of players and create dictionaries for our combo table and our combo traceback table\n",
    "    nPlayers = len(players) \n",
    "    combos = {}\n",
    "    combos_traceback = {}\n",
    "    \n",
    "    ## A cassic napsack problem is only measuring 2 variables (weight and value), making it a nested list solution\n",
    "    ## since this has a limitation of how many of each positions you can have, we are making a nest list solution\n",
    "    ## for every possible combination of position limits\n",
    "    \n",
    "    ## We iterate through every possible combination of centers, wings, defenders, and goalies\n",
    "    for centers in range(limits[\"C\"] + 1):\n",
    "        for wings in range(limits[\"W\"] + 1):\n",
    "            for defenders in range(limits[\"D\"] + 1):\n",
    "                for goalies in range(limits[\"G\"] + 1):\n",
    "                    \n",
    "                    ## For each combination, we initialize a list of lists of placeholder values                 \n",
    "                    combos[(centers, wings, defenders, goalies)] = [[-1 for i in range(budget + 1)] for i in range(nPlayers + 1)]\n",
    "                    combos_traceback[(centers, wings, defenders, goalies)] = [[None for i in range(budget + 1)] for i in range(nPlayers + 1)]\n",
    "\n",
    "                    \n",
    "    ## Now that we have created players/budget tables for each combination of positions,\n",
    "    ## we iterate through through each combination to start calculating our best draft option    \n",
    "    for centers in range(limits[\"C\"] + 1):\n",
    "        for wings in range(limits[\"W\"] + 1):\n",
    "            for defenders in range(limits[\"D\"] + 1):\n",
    "                for goalies in range(limits[\"G\"] + 1):\n",
    "                \n",
    "                \n",
    "                    roster_limits = {\"C\":centers,\"W\": wings ,\"D\":defenders ,\"G\": goalies}\n",
    "                    table = combos[(centers, wings, defenders, goalies)]\n",
    "                    traceback = combos_traceback[(centers, wings, defenders, goalies)]\n",
    "                \n",
    "                    ## Filling in the base case for 0 players to choose from\n",
    "                    for i in range(budget + 1):\n",
    "                        table[0][i] = 0\n",
    "                    \n",
    "                    ## Now we incrememnt through each player\n",
    "                    for player_row in range(1, nPlayers + 1):\n",
    "                        \n",
    "                        player_cost = players[player_row - 1][1]\n",
    "                        player_points = players[player_row - 1][2]\n",
    "                        player_position = players[player_row -1][3]\n",
    "                        \n",
    "                        \n",
    "                        ## For each player, we increment through our budget\n",
    "                        for budget_interval in range(budget + 1):\n",
    "                        \n",
    "                            ##For each acceptable player, we see if we can afford the player and if we have roster space\n",
    "                            if roster_limits[player_position] > 0 and budget_interval >= player_cost:\n",
    "                                \n",
    "                                \n",
    "                                ## To determine if we want to select a player or not, we find the higher value between:\n",
    "                                ## The ROI of the player + the optimized ROI of our remaining budget and available positions\n",
    "                                ## The ROI of not selecting the player\n",
    "                                \n",
    "                                ## Since these are tables of previously filled in dictionaries,\n",
    "                                ## We just have to go to the right player limit combination, player row, and budget interval\n",
    "                                ## to get the already-calculated optimized ROI\n",
    "                                if player_position == \"C\":\n",
    "                                    restOfROI = combos[(centers - 1, wings, defenders, goalies)][player_row - 1][budget_interval - player_cost]\n",
    "                                elif player_position == \"W\":\n",
    "                                    restOfROI = combos[(centers, wings -1 , defenders, goalies)][player_row - 1][budget_interval - player_cost]\n",
    "                                elif player_position == \"D\":\n",
    "                                    restOfROI = combos[(centers, wings, defenders - 1, goalies)][player_row - 1][budget_interval - player_cost]\n",
    "                                elif player_position == \"G\":\n",
    "                                    restOfROI = combos[(centers, wings, defenders, goalies - 1)][player_row - 1][budget_interval - player_cost]\n",
    "                                    \n",
    "\n",
    "                                ## We compare it for the optimal ROI if we dont sign the player\n",
    "                                noSign = table[player_row - 1][budget_interval]\n",
    "                \n",
    "                                ## if signing the player generates more profit than not signing the player, then we add him to the table\n",
    "                                if player_points + restOfROI > noSign:\n",
    "                                    table[player_row][budget_interval] = player_points + restOfROI\n",
    "                                    traceback[player_row][budget_interval] = True\n",
    "                                \n",
    "                                else:\n",
    "                                    table[player_row][budget_interval] = noSign\n",
    "                                    traceback[player_row][budget_interval] = False\n",
    "                                    \n",
    "                            ## if we cant afford the player or don't have roster room, we treat it as a noSign\n",
    "                            else:\n",
    "                                table[player_row][budget_interval] = table[player_row - 1][budget_interval]\n",
    "                                traceback[player_row][budget_interval] = False\n",
    "                                \n",
    "                                \n",
    "                                \n",
    "    \n",
    "    ## To return the optimized investment portfolio, we create an empty return list\n",
    "    ## and initialize our item marker value, and a money iteration value\n",
    "    ret_list = []\n",
    "    players_remaining = copy.deepcopy(nPlayers)\n",
    "    i = -1\n",
    "    centers = copy.deepcopy(limits[\"C\"])\n",
    "    wings = copy.deepcopy(limits[\"W\"])\n",
    "    defenders = copy.deepcopy(limits[\"D\"])\n",
    "    goalies = copy.deepcopy(limits[\"G\"])\n",
    "    \n",
    "    ## we loop through our table until our value (signifying the current item) is at 0\n",
    "    while players_remaining > 0:\n",
    "        \n",
    "        ## If our traceback table tells us to buy the investment\n",
    "        if combos_traceback[(centers, wings, defenders, goalies )][players_remaining][i]:\n",
    "            \n",
    "            ## We record the player position\n",
    "            player_position = players[players_remaining - 1][3]\n",
    "            \n",
    "            ## We add our player's name, cost, ROI, and position to our output list\n",
    "            output_row = (players[players_remaining - 1][0], players[players_remaining - 1][1] * inc, players[players_remaining - 1][2], players[players_remaining - 1][3])\n",
    "            ret_list.append(output_row)\n",
    "                            \n",
    "            ## We increment our money iteration value backwards by the amount that we \"spent\" on the investment\n",
    "            ## And increment our item marker value back by 1\n",
    "            ## and incrememnt back the roster space\n",
    "            i -= players[players_remaining - 1][1]\n",
    "            players_remaining -= 1\n",
    "            \n",
    "            if player_position == \"C\":\n",
    "                centers -= 1\n",
    "            if player_position == \"W\":\n",
    "                wings -= 1    \n",
    "            if player_position == \"D\":\n",
    "                defenders -= 1\n",
    "            elif player_position == \"G\":\n",
    "                goalies -= 1\n",
    "\n",
    "        \n",
    "        ## If our traceback table tells us to not buy the investment,\n",
    "        ## we simply increment our item marker value back by 1\n",
    "        else:\n",
    "            players_remaining -= 1\n",
    "    \n",
    "    \n",
    "    return ret_list#, combos, combos_traceback\n",
    " \n",
    "    "
   ]
  },
  {
   "cell_type": "code",
   "execution_count": 5,
   "metadata": {},
   "outputs": [
    {
     "data": {
      "text/plain": [
       "['Nathan MacKinnon', 9000, 14.94, 'C']"
      ]
     },
     "execution_count": 5,
     "metadata": {},
     "output_type": "execute_result"
    }
   ],
   "source": [
    "players_df = pd.read_csv(\"DKSalaries_2_25.csv\")\n",
    "players_df[\"Position\"] = players_df[\"Roster Position\"].str[0]\n",
    "players_df = players_df.drop(columns=[\"Name + ID\",\"ID\",\"Game Info\",\"TeamAbbrev\", \"Roster Position\"])\n",
    "data_for_algo = players_df[[\"Name\", \"Salary\", \"AvgPointsPerGame\", \"Position\"]].values.tolist()\n",
    "data_for_algo[0]"
   ]
  },
  {
   "cell_type": "code",
   "execution_count": 6,
   "metadata": {},
   "outputs": [],
   "source": [
    "limits = {\"C\": 2,\"W\": 3 ,\"D\" : 2,\"G\": 1}\n",
    "results = get_optimal_set(data_for_algo, 50000, 190, limits)"
   ]
  },
  {
   "cell_type": "code",
   "execution_count": 7,
   "metadata": {},
   "outputs": [
    {
     "data": {
      "text/plain": [
       "[('Arthur Kaliyev', 2470, 11.3, 'W'),\n",
       " ('Urho Vaakanainen', 3040, 10.8, 'D'),\n",
       " ('Mats Zuccarello', 4560, 14.32, 'W'),\n",
       " ('Devon Toews', 5510, 11.85, 'D'),\n",
       " ('Calvin Petersen', 7030, 16.52, 'G'),\n",
       " ('Patrice Bergeron', 7790, 15.16, 'C'),\n",
       " ('David Pastrnak', 8740, 20.52, 'W'),\n",
       " ('Nathan MacKinnon', 8930, 14.94, 'C')]"
      ]
     },
     "execution_count": 7,
     "metadata": {},
     "output_type": "execute_result"
    }
   ],
   "source": [
    "results"
   ]
  },
  {
   "cell_type": "code",
   "execution_count": 8,
   "metadata": {},
   "outputs": [],
   "source": [
    "def calculate_results(results):\n",
    "    cap = 0\n",
    "    points = 0\n",
    "    for player in results:\n",
    "        cap += player[1]\n",
    "        points += player[2]\n",
    "    \n",
    "    return (cap, points)"
   ]
  },
  {
   "cell_type": "code",
   "execution_count": 9,
   "metadata": {},
   "outputs": [
    {
     "data": {
      "text/plain": [
       "(48070, 115.41)"
      ]
     },
     "execution_count": 9,
     "metadata": {},
     "output_type": "execute_result"
    }
   ],
   "source": [
    "calculate_results(results)"
   ]
  },
  {
   "cell_type": "markdown",
   "metadata": {},
   "source": [
    "# Part 2 -- Drafting from the middle"
   ]
  },
  {
   "cell_type": "code",
   "execution_count": 10,
   "metadata": {},
   "outputs": [],
   "source": [
    "def get_player_info(players, target):\n",
    "    for player in players:\n",
    "        if player[0] == target:\n",
    "            return(player)\n",
    "\n",
    "def draft_from_middle(players, already_selected, players_taken_by_other, budget, inc, limits):\n",
    "    \n",
    "    ## for the already selected players, we adjust our budget and \n",
    "    for selected_player in already_selected:\n",
    "        player_info = get_player_info(players, selected_player)\n",
    "        budget = budget - player_info[1]\n",
    "        limits[player_info[3]] -= 1\n",
    "    \n",
    "    \n",
    "    ## we remove the already selected and taken players from our player pool\n",
    "    remaining_players = [player for player in players if player[0] not in players_taken_by_other]    \n",
    "    remaining_players = [player for player in remaining_players if player[0] not in already_selected]    \n",
    "    \n",
    "    ## and use our original drafting algorithm on the updated budget, limits, and player pool\n",
    "    remaining_draft = get_optimal_set(remaining_players, budget, inc, limits)\n",
    "    \n",
    "    ## at the very end, we add in our already selected players\n",
    "    for already_selected_player in already_selected:\n",
    "        remaining_draft += [get_player_info(players, already_selected_player)]\n",
    "    \n",
    "    return remaining_draft\n",
    "    "
   ]
  },
  {
   "cell_type": "code",
   "execution_count": 11,
   "metadata": {},
   "outputs": [],
   "source": [
    "players = players_df[[\"Name\", \"Salary\", \"AvgPointsPerGame\", \"Position\"]].values.tolist()\n",
    "\n",
    "already_selected = ['Nathan MacKinnon']\n",
    "players_taken_by_other = ['David Pastrnak', 'Patrice Bergeron']\n",
    "limits = {\"C\": 2,\"W\": 3 ,\"D\" : 2,\"G\": 1}\n",
    "\n",
    "\n",
    "mid_draft = draft_from_middle(players, already_selected, players_taken_by_other, 50000, 100, limits)"
   ]
  },
  {
   "cell_type": "code",
   "execution_count": 12,
   "metadata": {},
   "outputs": [
    {
     "data": {
      "text/plain": [
       "(49100, 106.92999999999999)"
      ]
     },
     "execution_count": 12,
     "metadata": {},
     "output_type": "execute_result"
    }
   ],
   "source": [
    "calculate_results(mid_draft)"
   ]
  },
  {
   "cell_type": "markdown",
   "metadata": {},
   "source": [
    "# Part 3 -- ranking optimized list of player by order of importance\n",
    "\n",
    "Now that we can get an optimized draft that includes players already selected and players that are already taken, we are going to create an updated version of our drafting algorithm\n",
    "\n",
    "it will:\n",
    " - run a preliminary optimized draft on all of the available players\n",
    " - for every player selected in our preliminary result, we will:\n",
    "     - run anohter optimized draft as if the player was unavailable\n",
    "     - we subtract it from our original optimized draft to get the players contribution\n",
    " - we rank each player by their contribution, we should first draft the player with the highest draft contribution"
   ]
  },
  {
   "cell_type": "code",
   "execution_count": 13,
   "metadata": {},
   "outputs": [],
   "source": [
    "def get_player_importance(players, already_selected, players_taken_by_other, budget, inc, limits, verbose):\n",
    "    \n",
    "    #run a preliminary optimized draft on all of the available players\n",
    "    results = draft_from_middle(players, already_selected, players_taken_by_other, budget, inc, limits)\n",
    "    optimal_points = calculate_results(results)[1]\n",
    "\n",
    "    players_with_contributions = []\n",
    "\n",
    "    #for every player selected in our preliminary result, we will:\n",
    "    for player in results:\n",
    "    \n",
    "        #run anohter optimized draft as if the player was unavailable\n",
    "        already_selected = []\n",
    "        updated_players_taken_by_other = players_taken_by_other + [player[0]]\n",
    "        updated_reuslts = draft_from_middle(players, already_selected, updated_players_taken_by_other, 50000, 100, limits)\n",
    "        max_points_without_player = calculate_results(updated_reuslts)[1]\n",
    "\n",
    "\n",
    "        #we subtract it from our original optimized draft to get the players contribution\n",
    "        player_contribution = optimal_points - max_points_without_player\n",
    "        \n",
    "        if verbose: \n",
    "            print(\"Player:\",player[0],\" Contribution Value:\", player_contribution)\n",
    "            \n",
    "        players_with_contributions.append((player[0], optimal_points, max_points_without_player, player_contribution))\n",
    "\n",
    "    #we rank each player by their contribution, we should first draft the player with the highest draft contribution\n",
    "    players_ranked = sorted(players_with_contributions, key=lambda x: x[3], reverse = True)\n",
    "    \n",
    "    top_player = players_ranked[0]\n",
    "    return(top_player, players_ranked)"
   ]
  },
  {
   "cell_type": "code",
   "execution_count": 14,
   "metadata": {},
   "outputs": [
    {
     "name": "stdout",
     "output_type": "stream",
     "text": [
      "Player: Arthur Kaliyev  Contribution Value: 1.4100000000000108\n",
      "Player: Urho Vaakanainen  Contribution Value: 2.6500000000000057\n",
      "Player: Mats Zuccarello  Contribution Value: 3.1700000000000017\n",
      "Player: Devon Toews  Contribution Value: 0.13000000000000966\n",
      "Player: Calvin Petersen  Contribution Value: 0.12000000000000455\n",
      "Player: Patrice Bergeron  Contribution Value: 2.8700000000000045\n",
      "Player: David Pastrnak  Contribution Value: 6.140000000000001\n",
      "Player: Nathan MacKinnon  Contribution Value: 1.4100000000000108\n",
      "--- 52.928553342819214 seconds ---\n"
     ]
    }
   ],
   "source": [
    "already_selected = []\n",
    "players_taken_by_other = []\n",
    "limits = {\"C\": 2,\"W\": 3 ,\"D\" : 2,\"G\": 1}\n",
    "\n",
    "start_time = time.time()\n",
    "get_player_importance(players, already_selected, players_taken_by_other, 50000, 100, limits, verbose = True)\n",
    "print(\"--- %s seconds ---\" % (time.time() - start_time))"
   ]
  },
  {
   "cell_type": "markdown",
   "metadata": {},
   "source": [
    "# Part 4\n",
    "\n",
    "Applying our Draft Algorithm to Scenareos where I have a \"Flex\" Player (the default in DraftKings).\n",
    "\n",
    "In other words, I am allowed to add an additional player, regardless of the player's position\n",
    "\n",
    "The solution is pretty simple. We run the algorithm 3 times (limits + 1 center, limits + 1 winger, limits + 1 defender). And we pick the solution with the highest amount. Since DraftKings does not do any live drafting (no worries about someone else taking our players), we don't need to draft from the middle.\n"
   ]
  },
  {
   "cell_type": "code",
   "execution_count": 36,
   "metadata": {},
   "outputs": [],
   "source": [
    "def draft_with_util(data_for_algo, cap, inc, limits):\n",
    "   \n",
    "    best_combo = ''\n",
    "    highest_points = -1\n",
    "    util_draft = ''\n",
    "    \n",
    "    ## If you get one extra center\n",
    "    \n",
    "    limits_extra_center = copy.deepcopy(limits)\n",
    "    limits_extra_center[\"C\"] += 1\n",
    "    results_extra_center = get_optimal_set(data_for_algo, cap, inc, limits_extra_center)\n",
    "    total_points_extra_center = sum([player[2] for player in results_extra_center])\n",
    "   \n",
    "    if total_points_extra_center > highest_points:\n",
    "        highest_points = total_points_extra_center\n",
    "        best_combo = results_extra_center\n",
    "        util_draft = \"Center\"\n",
    "    \n",
    "    print('Extra Center:', total_points_extra_center, 'expected points')\n",
    "\n",
    "    ## if you get one extra Wing    \n",
    "    limits_extra_wing = copy.deepcopy(limits)\n",
    "    limits_extra_wing[\"W\"] += 1\n",
    "    results_extra_wing = get_optimal_set(data_for_algo, cap, inc, limits_extra_wing)\n",
    "    total_points_extra_wing = sum([player[2] for player in results_extra_wing])\n",
    "\n",
    "    if total_points_extra_wing > highest_points:\n",
    "        highest_points = total_points_extra_wing\n",
    "        best_combo = results_extra_wing\n",
    "        util_draft = \"Wing\"\n",
    "\n",
    "    print('Extra Wing:', total_points_extra_wing, 'expected points')\n",
    "\n",
    "    ## if you get one extra Defender    \n",
    "    limits_extra_defender = copy.deepcopy(limits)\n",
    "    limits_extra_defender[\"D\"] += 1\n",
    "    \n",
    "    results_extra_defender = get_optimal_set(data_for_algo, cap, inc, limits_extra_defender)\n",
    "    total_points_extra_defender = sum([player[2] for player in results_extra_defender])\n",
    "\n",
    "    if total_points_extra_defender > highest_points:\n",
    "        highest_points = total_points_extra_defender\n",
    "        best_combo = results_extra_defender\n",
    "        util_draft = \"Defender\"\n",
    "\n",
    "    print('Extra Defender:', total_points_extra_defender, 'expected points')\n",
    "\n",
    "\n",
    "    ## We get the best option from our \n",
    "    best_option = max(total_points_dict, key=total_points_dict.get)\n",
    "    print(\"The Util should be used for an aditional\", util_draft)\n",
    "    return best_combo, highest_points\n"
   ]
  },
  {
   "cell_type": "code",
   "execution_count": 37,
   "metadata": {},
   "outputs": [
    {
     "name": "stdout",
     "output_type": "stream",
     "text": [
      "Extra Center: 120.1 expected points\n",
      "Extra Wing: 122.19 expected points\n",
      "Extra Defender: 121.26 expected points\n",
      "The Util should be used for an aditional Wing\n"
     ]
    },
    {
     "data": {
      "text/plain": [
       "([('Arthur Kaliyev', 2500, 11.3, 'W'),\n",
       "  ('Urho Vaakanainen', 3100, 10.8, 'D'),\n",
       "  ('Filip Chytil', 3300, 8.26, 'C'),\n",
       "  ('Mats Zuccarello', 4700, 14.32, 'W'),\n",
       "  ('Devon Toews', 5600, 11.85, 'D'),\n",
       "  ('Artemi Panarin', 6400, 13.46, 'W'),\n",
       "  ('Calvin Petersen', 7200, 16.52, 'G'),\n",
       "  ('Patrice Bergeron', 7900, 15.16, 'C'),\n",
       "  ('David Pastrnak', 8800, 20.52, 'W')],\n",
       " 122.19)"
      ]
     },
     "execution_count": 37,
     "metadata": {},
     "output_type": "execute_result"
    }
   ],
   "source": [
    "limits = {\"C\": 2,\"W\": 3 ,\"D\" : 2,\"G\": 1}\n",
    "draft_with_util(data_for_algo, 50000, 100, limits)"
   ]
  }
 ],
 "metadata": {
  "kernelspec": {
   "display_name": "Python 3",
   "language": "python",
   "name": "python3"
  },
  "language_info": {
   "codemirror_mode": {
    "name": "ipython",
    "version": 3
   },
   "file_extension": ".py",
   "mimetype": "text/x-python",
   "name": "python",
   "nbconvert_exporter": "python",
   "pygments_lexer": "ipython3",
   "version": "3.8.5"
  }
 },
 "nbformat": 4,
 "nbformat_minor": 4
}
