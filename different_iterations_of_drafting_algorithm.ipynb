{
 "cells": [
  {
   "cell_type": "code",
   "execution_count": 2,
   "metadata": {},
   "outputs": [],
   "source": [
    "import numpy as np\n",
    "import pandas as pd\n",
    "from decimal import Decimal, getcontext\n",
    "import time\n",
    "import copy"
   ]
  },
  {
   "cell_type": "markdown",
   "metadata": {},
   "source": [
    "# Part 0 -- Loading/Transforming our Data"
   ]
  },
  {
   "cell_type": "code",
   "execution_count": 9,
   "metadata": {},
   "outputs": [
    {
     "data": {
      "text/html": [
       "<div>\n",
       "<style scoped>\n",
       "    .dataframe tbody tr th:only-of-type {\n",
       "        vertical-align: middle;\n",
       "    }\n",
       "\n",
       "    .dataframe tbody tr th {\n",
       "        vertical-align: top;\n",
       "    }\n",
       "\n",
       "    .dataframe thead th {\n",
       "        text-align: right;\n",
       "    }\n",
       "</style>\n",
       "<table border=\"1\" class=\"dataframe\">\n",
       "  <thead>\n",
       "    <tr style=\"text-align: right;\">\n",
       "      <th></th>\n",
       "      <th>Position</th>\n",
       "      <th>Name + ID</th>\n",
       "      <th>Name</th>\n",
       "      <th>ID</th>\n",
       "      <th>Roster Position</th>\n",
       "      <th>Salary</th>\n",
       "      <th>Game Info</th>\n",
       "      <th>TeamAbbrev</th>\n",
       "      <th>AvgPointsPerGame</th>\n",
       "    </tr>\n",
       "  </thead>\n",
       "  <tbody>\n",
       "    <tr>\n",
       "      <th>0</th>\n",
       "      <td>LW</td>\n",
       "      <td>Alex Ovechkin (20206545)</td>\n",
       "      <td>Alex Ovechkin</td>\n",
       "      <td>20206545</td>\n",
       "      <td>W/UTIL</td>\n",
       "      <td>9100</td>\n",
       "      <td>WAS@LA 11/17/2021 10:30PM ET</td>\n",
       "      <td>WAS</td>\n",
       "      <td>20.73</td>\n",
       "    </tr>\n",
       "    <tr>\n",
       "      <th>1</th>\n",
       "      <td>C</td>\n",
       "      <td>Nathan MacKinnon (20206385)</td>\n",
       "      <td>Nathan MacKinnon</td>\n",
       "      <td>20206385</td>\n",
       "      <td>C/UTIL</td>\n",
       "      <td>8800</td>\n",
       "      <td>COL@VAN 11/17/2021 09:00PM ET</td>\n",
       "      <td>COL</td>\n",
       "      <td>14.45</td>\n",
       "    </tr>\n",
       "    <tr>\n",
       "      <th>2</th>\n",
       "      <td>C</td>\n",
       "      <td>Mikko Rantanen (20206387)</td>\n",
       "      <td>Mikko Rantanen</td>\n",
       "      <td>20206387</td>\n",
       "      <td>C/UTIL</td>\n",
       "      <td>8300</td>\n",
       "      <td>COL@VAN 11/17/2021 09:00PM ET</td>\n",
       "      <td>COL</td>\n",
       "      <td>13.80</td>\n",
       "    </tr>\n",
       "    <tr>\n",
       "      <th>3</th>\n",
       "      <td>G</td>\n",
       "      <td>Darcy Kuemper (20207005)</td>\n",
       "      <td>Darcy Kuemper</td>\n",
       "      <td>20207005</td>\n",
       "      <td>G</td>\n",
       "      <td>8100</td>\n",
       "      <td>COL@VAN 11/17/2021 09:00PM ET</td>\n",
       "      <td>COL</td>\n",
       "      <td>14.05</td>\n",
       "    </tr>\n",
       "    <tr>\n",
       "      <th>4</th>\n",
       "      <td>G</td>\n",
       "      <td>Jonas Johansson (20207006)</td>\n",
       "      <td>Jonas Johansson</td>\n",
       "      <td>20207006</td>\n",
       "      <td>G</td>\n",
       "      <td>8100</td>\n",
       "      <td>COL@VAN 11/17/2021 09:00PM ET</td>\n",
       "      <td>COL</td>\n",
       "      <td>10.10</td>\n",
       "    </tr>\n",
       "  </tbody>\n",
       "</table>\n",
       "</div>"
      ],
      "text/plain": [
       "  Position                    Name + ID              Name        ID  \\\n",
       "0       LW     Alex Ovechkin (20206545)     Alex Ovechkin  20206545   \n",
       "1        C  Nathan MacKinnon (20206385)  Nathan MacKinnon  20206385   \n",
       "2        C    Mikko Rantanen (20206387)    Mikko Rantanen  20206387   \n",
       "3        G     Darcy Kuemper (20207005)     Darcy Kuemper  20207005   \n",
       "4        G   Jonas Johansson (20207006)   Jonas Johansson  20207006   \n",
       "\n",
       "  Roster Position  Salary                      Game Info TeamAbbrev  \\\n",
       "0          W/UTIL    9100   WAS@LA 11/17/2021 10:30PM ET        WAS   \n",
       "1          C/UTIL    8800  COL@VAN 11/17/2021 09:00PM ET        COL   \n",
       "2          C/UTIL    8300  COL@VAN 11/17/2021 09:00PM ET        COL   \n",
       "3               G    8100  COL@VAN 11/17/2021 09:00PM ET        COL   \n",
       "4               G    8100  COL@VAN 11/17/2021 09:00PM ET        COL   \n",
       "\n",
       "   AvgPointsPerGame  \n",
       "0             20.73  \n",
       "1             14.45  \n",
       "2             13.80  \n",
       "3             14.05  \n",
       "4             10.10  "
      ]
     },
     "execution_count": 9,
     "metadata": {},
     "output_type": "execute_result"
    }
   ],
   "source": [
    "players_df = pd.read_csv(\"DKSalaries_11_16_21.csv\")\n",
    "players_df.head()"
   ]
  },
  {
   "cell_type": "code",
   "execution_count": 10,
   "metadata": {},
   "outputs": [
    {
     "data": {
      "text/plain": [
       "['Alex Ovechkin', 9100, 20.73, 'W']"
      ]
     },
     "execution_count": 10,
     "metadata": {},
     "output_type": "execute_result"
    }
   ],
   "source": [
    "## We just used the first letter for the position\n",
    "players_df[\"Position\"] = players_df[\"Roster Position\"].str[0]\n",
    "\n",
    "## Remove rows we don't use\n",
    "players_df = players_df.drop(columns=[\"Name + ID\",\"ID\",\"Game Info\",\"TeamAbbrev\", \"Roster Position\"])\n",
    "\n",
    "## Convert our data from a dataframe to a list of lists\n",
    "data_for_algo = players_df[[\"Name\", \"Salary\", \"AvgPointsPerGame\", \"Position\"]].values.tolist()\n",
    "data_for_algo[0]\n"
   ]
  },
  {
   "cell_type": "code",
   "execution_count": 11,
   "metadata": {},
   "outputs": [],
   "source": [
    "def printTable(table):\n",
    "    '''A simple way to display matrices in a more readable format'''\n",
    "    for i in table:\n",
    "        print(i)"
   ]
  },
  {
   "cell_type": "markdown",
   "metadata": {},
   "source": [
    "# Part 1: Building a dynamic programming algorithm that gets an optimal roster of palyers"
   ]
  },
  {
   "cell_type": "code",
   "execution_count": 12,
   "metadata": {},
   "outputs": [],
   "source": [
    "def get_optimal_set(players_list, budget, inc, limits):\n",
    "    '''Uses a Dynamic Programming Algorithm to get the maximum number of points scored on a fantasy hockey team,\n",
    "    constrained by salary cap (budget) and limits on positions (only 3 centers, 2 wings, etc.)'''\n",
    "    \n",
    "    ## inputs\n",
    "    # players_list--a list of lists: player name, salary, expected points, position--ex:['Nathan MacKinnon', 9000, 14.94, 'C']\n",
    "    # budget -- a total budget/salary cap--ex:50000\n",
    "    # inc -- an increment that you go up/down by when you use the algorithm--ex:100 \n",
    "    # limits -- a dictionary of constraints for each position--ex:{\"C\": 2,\"W\": 3 ,\"D\" : 2,\"G\": 1}\n",
    "    \n",
    "    ## first we divide all working money sums by the increment\n",
    "    ## This allows us to control the granularity of the algorith\n",
    "    players = [[player[0], int(int(player[1])/inc), player[2], player[3]] for player in players_list]\n",
    "    budget = int(budget / inc)\n",
    "\n",
    "\n",
    "    ## we get our number of players and create dictionaries for our combo table and our combo traceback table\n",
    "    nPlayers = len(players) \n",
    "    combos = {}\n",
    "    combos_traceback = {}\n",
    "    \n",
    "    ## A cassic napsack problem is only measuring 2 variables (weight and value), making it a nested list solution\n",
    "    ## since this has a limitation of how many of each positions you can have, we are making a nest list solution\n",
    "    ## for every possible combination of position limits\n",
    "    \n",
    "    ## We iterate through every possible combination of centers, wings, defenders, and goalies\n",
    "    for centers in range(limits[\"C\"] + 1):\n",
    "        for wings in range(limits[\"W\"] + 1):\n",
    "            for defenders in range(limits[\"D\"] + 1):\n",
    "                for goalies in range(limits[\"G\"] + 1):\n",
    "                    \n",
    "                    ## For each combination, we initialize a list of lists of placeholder values                 \n",
    "                    combos[(centers, wings, defenders, goalies)] = [[-1 for i in range(budget + 1)] for i in range(nPlayers + 1)]\n",
    "                    combos_traceback[(centers, wings, defenders, goalies)] = [[None for i in range(budget + 1)] for i in range(nPlayers + 1)]\n",
    "\n",
    "                    \n",
    "    ## Now that we have created players/budget tables for each combination of positions,\n",
    "    ## we iterate through through each combination to start calculating our best draft option    \n",
    "    for centers in range(limits[\"C\"] + 1):\n",
    "        for wings in range(limits[\"W\"] + 1):\n",
    "            for defenders in range(limits[\"D\"] + 1):\n",
    "                for goalies in range(limits[\"G\"] + 1):\n",
    "                \n",
    "                \n",
    "                    roster_limits = {\"C\":centers,\"W\": wings ,\"D\":defenders ,\"G\": goalies}\n",
    "                    table = combos[(centers, wings, defenders, goalies)]\n",
    "                    traceback = combos_traceback[(centers, wings, defenders, goalies)]\n",
    "                \n",
    "                    ## Filling in the base case for 0 players to choose from\n",
    "                    for i in range(budget + 1):\n",
    "                        table[0][i] = 0\n",
    "                    \n",
    "                    ## Now we incrememnt through each player\n",
    "                    for player_row in range(1, nPlayers + 1):\n",
    "                        \n",
    "                        player_cost = players[player_row - 1][1]\n",
    "                        player_points = players[player_row - 1][2]\n",
    "                        player_position = players[player_row -1][3]\n",
    "                        \n",
    "                        \n",
    "                        ## For each player, we increment through our budget\n",
    "                        for budget_interval in range(budget + 1):\n",
    "                        \n",
    "                            ##For each acceptable player, we see if we can afford the player and if we have roster space\n",
    "                            if roster_limits[player_position] > 0 and budget_interval >= player_cost:\n",
    "                                \n",
    "                                \n",
    "                                ## To determine if we want to select a player or not, we find the higher value between:\n",
    "                                ## The ROI of the player + the optimized ROI of our remaining budget and available positions\n",
    "                                ## The ROI of not selecting the player\n",
    "                                \n",
    "                                ## Since these are tables of previously filled in dictionaries,\n",
    "                                ## We just have to go to the right player limit combination, player row, and budget interval\n",
    "                                ## to get the already-calculated optimized ROI\n",
    "                                if player_position == \"C\":\n",
    "                                    restOfROI = combos[(centers - 1, wings, defenders, goalies)][player_row - 1][budget_interval - player_cost]\n",
    "                                elif player_position == \"W\":\n",
    "                                    restOfROI = combos[(centers, wings -1 , defenders, goalies)][player_row - 1][budget_interval - player_cost]\n",
    "                                elif player_position == \"D\":\n",
    "                                    restOfROI = combos[(centers, wings, defenders - 1, goalies)][player_row - 1][budget_interval - player_cost]\n",
    "                                elif player_position == \"G\":\n",
    "                                    restOfROI = combos[(centers, wings, defenders, goalies - 1)][player_row - 1][budget_interval - player_cost]\n",
    "                                    \n",
    "\n",
    "                                ## We compare it for the optimal ROI if we dont sign the player\n",
    "                                noSign = table[player_row - 1][budget_interval]\n",
    "                \n",
    "                                ## if signing the player generates more profit than not signing the player, then we add him to the table\n",
    "                                if player_points + restOfROI > noSign:\n",
    "                                    table[player_row][budget_interval] = player_points + restOfROI\n",
    "                                    traceback[player_row][budget_interval] = True\n",
    "                                \n",
    "                                else:\n",
    "                                    table[player_row][budget_interval] = noSign\n",
    "                                    traceback[player_row][budget_interval] = False\n",
    "                                    \n",
    "                            ## if we cant afford the player or don't have roster room, we treat it as a noSign\n",
    "                            else:\n",
    "                                table[player_row][budget_interval] = table[player_row - 1][budget_interval]\n",
    "                                traceback[player_row][budget_interval] = False\n",
    "                                \n",
    "                                \n",
    "                                \n",
    "    \n",
    "    ## To return the optimized investment portfolio, we create an empty return list\n",
    "    ## and initialize our item marker value, and a money iteration value\n",
    "    ret_list = []\n",
    "    players_remaining = copy.deepcopy(nPlayers)\n",
    "    i = -1\n",
    "    centers = copy.deepcopy(limits[\"C\"])\n",
    "    wings = copy.deepcopy(limits[\"W\"])\n",
    "    defenders = copy.deepcopy(limits[\"D\"])\n",
    "    goalies = copy.deepcopy(limits[\"G\"])\n",
    "    \n",
    "    ## we loop through our table until our value (signifying the current item) is at 0\n",
    "    while players_remaining > 0:\n",
    "        \n",
    "        ## If our traceback table tells us to buy the investment\n",
    "        if combos_traceback[(centers, wings, defenders, goalies )][players_remaining][i]:\n",
    "            \n",
    "            ## We record the player position\n",
    "            player_position = players[players_remaining - 1][3]\n",
    "            \n",
    "            ## We add our player's name, cost, ROI, and position to our output list\n",
    "            output_row = (players[players_remaining - 1][0], players[players_remaining - 1][1] * inc, players[players_remaining - 1][2], players[players_remaining - 1][3])\n",
    "            ret_list.append(output_row)\n",
    "                            \n",
    "            ## We increment our money iteration value backwards by the amount that we \"spent\" on the investment\n",
    "            ## And increment our item marker value back by 1\n",
    "            ## and incrememnt back the roster space\n",
    "            i -= players[players_remaining - 1][1]\n",
    "            players_remaining -= 1\n",
    "            \n",
    "            if player_position == \"C\":\n",
    "                centers -= 1\n",
    "            if player_position == \"W\":\n",
    "                wings -= 1    \n",
    "            if player_position == \"D\":\n",
    "                defenders -= 1\n",
    "            elif player_position == \"G\":\n",
    "                goalies -= 1\n",
    "\n",
    "        \n",
    "        ## If our traceback table tells us to not buy the investment,\n",
    "        ## we simply increment our item marker value back by 1\n",
    "        else:\n",
    "            players_remaining -= 1\n",
    "    \n",
    "    \n",
    "    return ret_list#, combos, combos_traceback\n",
    " \n",
    "    "
   ]
  },
  {
   "cell_type": "code",
   "execution_count": 13,
   "metadata": {},
   "outputs": [],
   "source": [
    "limits = {\"C\": 2,\"W\": 3 ,\"D\" : 2,\"G\": 1}\n",
    "results = get_optimal_set(data_for_algo, 50000, 190, limits)"
   ]
  },
  {
   "cell_type": "code",
   "execution_count": 14,
   "metadata": {},
   "outputs": [
    {
     "data": {
      "text/plain": [
       "[('Samuel Girard', 3800, 9.95, 'D'),\n",
       " ('Devon Toews', 4750, 11.2, 'D'),\n",
       " ('Nazem Kadri', 4940, 12.08, 'C'),\n",
       " ('Viktor Arvidsson', 5320, 12.69, 'W'),\n",
       " ('Anze Kopitar', 6840, 14.73, 'C'),\n",
       " ('Zach Fucale', 7600, 24.7, 'G'),\n",
       " ('Patrick Kane', 7790, 17.8, 'W'),\n",
       " ('Alex Ovechkin', 8930, 20.73, 'W')]"
      ]
     },
     "execution_count": 14,
     "metadata": {},
     "output_type": "execute_result"
    }
   ],
   "source": [
    "results"
   ]
  },
  {
   "cell_type": "code",
   "execution_count": 21,
   "metadata": {},
   "outputs": [],
   "source": [
    "def calculate_results(results):\n",
    "    cap = 0\n",
    "    points = 0\n",
    "    for player in results:\n",
    "        cap += player[1]\n",
    "        points += player[2]\n",
    "    \n",
    "    return (cap, points)"
   ]
  },
  {
   "cell_type": "code",
   "execution_count": 22,
   "metadata": {},
   "outputs": [
    {
     "data": {
      "text/plain": [
       "(49970, 123.88)"
      ]
     },
     "execution_count": 22,
     "metadata": {},
     "output_type": "execute_result"
    }
   ],
   "source": [
    "calculate_results(results)"
   ]
  },
  {
   "cell_type": "markdown",
   "metadata": {},
   "source": [
    "# Part 2: Drafting from the middle\n",
    "\n",
    "This is a modified version of our drafting algorithm that is meant for a mid-draft scenareo. This factors in players that you have already selected and players that have been selected by other people."
   ]
  },
  {
   "cell_type": "code",
   "execution_count": 18,
   "metadata": {},
   "outputs": [],
   "source": [
    "def get_player_info(players, target):\n",
    "    for player in players:\n",
    "        if player[0] == target:\n",
    "            return(player)\n",
    "\n",
    "def draft_from_middle(players, already_selected, players_taken_by_other, budget, inc, limits):\n",
    "    \n",
    "    ## for the already selected players, we adjust our budget and \n",
    "    for selected_player in already_selected:\n",
    "        player_info = get_player_info(players, selected_player)\n",
    "        budget = budget - player_info[1]\n",
    "        limits[player_info[3]] -= 1\n",
    "    \n",
    "    \n",
    "    ## we remove the already selected and taken players from our player pool\n",
    "    remaining_players = [player for player in players if player[0] not in players_taken_by_other]    \n",
    "    remaining_players = [player for player in remaining_players if player[0] not in already_selected]    \n",
    "    \n",
    "    ## and use our original drafting algorithm on the updated budget, limits, and player pool\n",
    "    remaining_draft = get_optimal_set(remaining_players, budget, inc, limits)\n",
    "    \n",
    "    ## at the very end, we add in our already selected players\n",
    "    for already_selected_player in already_selected:\n",
    "        remaining_draft += [get_player_info(players, already_selected_player)]\n",
    "    \n",
    "    return remaining_draft\n",
    "    "
   ]
  },
  {
   "cell_type": "code",
   "execution_count": 19,
   "metadata": {},
   "outputs": [],
   "source": [
    "players = players_df[[\"Name\", \"Salary\", \"AvgPointsPerGame\", \"Position\"]].values.tolist()\n",
    "\n",
    "already_selected = ['Nathan MacKinnon']\n",
    "players_taken_by_other = ['David Pastrnak', 'Patrice Bergeron']\n",
    "limits = {\"C\": 2,\"W\": 3 ,\"D\" : 2,\"G\": 1}\n",
    "\n",
    "\n",
    "mid_draft = draft_from_middle(players, already_selected, players_taken_by_other, 50000, 100, limits)"
   ]
  },
  {
   "cell_type": "code",
   "execution_count": 23,
   "metadata": {},
   "outputs": [
    {
     "data": {
      "text/plain": [
       "(49800, 119.11)"
      ]
     },
     "execution_count": 23,
     "metadata": {},
     "output_type": "execute_result"
    }
   ],
   "source": [
    "calculate_results(mid_draft)"
   ]
  },
  {
   "cell_type": "markdown",
   "metadata": {},
   "source": [
    "# Part 3: ranking optimized list of player by order of importance\n",
    "\n",
    "Now that we can get an optimized draft that includes players already selected and players that are already taken, we are going to create an updated version of our drafting algorithm\n",
    "\n",
    "it will:\n",
    " - run a preliminary optimized draft on all of the available players\n",
    " - for every player selected in our preliminary result, we will:\n",
    "     - run another optimized draft as if the player was unavailable\n",
    "     - When we remove the selected player, our \"optimal\" result will have a somewhat lower total points scored.\n",
    "     - We subtract this smaller total points from our optimal preliminary draft to get the player's draft contribution\n",
    "        - draft contribution = how many points a player adds to your optimal solution\n",
    " - we rank each player by their contribution, we should first draft the player with the highest draft contribution"
   ]
  },
  {
   "cell_type": "code",
   "execution_count": 26,
   "metadata": {},
   "outputs": [],
   "source": [
    "def get_player_importance(players, already_selected, players_taken_by_other, budget, inc, limits, verbose):\n",
    "    \n",
    "    #run a preliminary optimized draft on all of the available players\n",
    "    results = draft_from_middle(players, already_selected, players_taken_by_other, budget, inc, limits)\n",
    "    optimal_points = calculate_results(results)[1]\n",
    "\n",
    "    players_with_contributions = []\n",
    "\n",
    "    #for every player selected in our preliminary result, we will:\n",
    "    for player in results:\n",
    "    \n",
    "        #run anohter optimized draft as if the player was unavailable\n",
    "        already_selected = []\n",
    "        updated_players_taken_by_other = players_taken_by_other + [player[0]]\n",
    "        updated_reuslts = draft_from_middle(players, already_selected, updated_players_taken_by_other, 50000, 100, limits)\n",
    "        max_points_without_player = calculate_results(updated_reuslts)[1]\n",
    "\n",
    "\n",
    "        #we subtract it from our original optimized draft to get the players contribution\n",
    "        player_contribution = optimal_points - max_points_without_player\n",
    "        \n",
    "        if verbose: \n",
    "            print(\"Player:\",player[0],\"-- Position:\", player[3],\"-- Contribution Value:\", player_contribution)\n",
    "            \n",
    "        players_with_contributions.append((player[0], optimal_points, max_points_without_player, player_contribution))\n",
    "\n",
    "    #we rank each player by their contribution, we should first draft the player with the highest draft contribution\n",
    "    players_ranked = sorted(players_with_contributions, key=lambda x: x[3], reverse = True)\n",
    "    \n",
    "    top_player = players_ranked[0]\n",
    "    print('You should draft:', top_player[0])\n",
    "    \n",
    "    return players_ranked"
   ]
  },
  {
   "cell_type": "code",
   "execution_count": 27,
   "metadata": {},
   "outputs": [
    {
     "name": "stdout",
     "output_type": "stream",
     "text": [
      "Player: Erik Johnson -- Position: D -- Contribution Value: 0.06999999999999318\n",
      "Player: Devon Toews -- Position: D -- Contribution Value: 0.06999999999999318\n",
      "Player: Nazem Kadri -- Position: C -- Contribution Value: 0.11999999999999034\n",
      "Player: Alex Iafallo -- Position: W -- Contribution Value: 0.06999999999999318\n",
      "Player: Anze Kopitar -- Position: C -- Contribution Value: 0.4099999999999966\n",
      "Player: Zach Fucale -- Position: G -- Contribution Value: 7.290000000000006\n",
      "Player: Patrick Kane -- Position: W -- Contribution Value: 1.8599999999999994\n",
      "Player: Alex Ovechkin -- Position: W -- Contribution Value: 2.469999999999999\n",
      "You should draft: Zach Fucale\n",
      "--- 65.1597957611084 seconds ---\n"
     ]
    }
   ],
   "source": [
    "already_selected = []\n",
    "players_taken_by_other = []\n",
    "limits = {\"C\": 2,\"W\": 3 ,\"D\" : 2,\"G\": 1}\n",
    "\n",
    "start_time = time.time()\n",
    "top_players = get_player_importance(players, already_selected, players_taken_by_other, 50000, 100, limits, verbose = True)\n",
    "print(\"--- %s seconds ---\" % (time.time() - start_time))"
   ]
  },
  {
   "cell_type": "code",
   "execution_count": 28,
   "metadata": {},
   "outputs": [
    {
     "data": {
      "text/plain": [
       "[('Zach Fucale', 121.89, 114.6, 7.290000000000006),\n",
       " ('Alex Ovechkin', 121.89, 119.42, 2.469999999999999),\n",
       " ('Patrick Kane', 121.89, 120.03, 1.8599999999999994),\n",
       " ('Anze Kopitar', 121.89, 121.48, 0.4099999999999966),\n",
       " ('Nazem Kadri', 121.89, 121.77000000000001, 0.11999999999999034),\n",
       " ('Erik Johnson', 121.89, 121.82000000000001, 0.06999999999999318),\n",
       " ('Devon Toews', 121.89, 121.82000000000001, 0.06999999999999318),\n",
       " ('Alex Iafallo', 121.89, 121.82000000000001, 0.06999999999999318)]"
      ]
     },
     "execution_count": 28,
     "metadata": {},
     "output_type": "execute_result"
    }
   ],
   "source": [
    "top_players"
   ]
  },
  {
   "cell_type": "markdown",
   "metadata": {},
   "source": [
    "# Part 4\n",
    "\n",
    "Applying our Draft Algorithm to Scenareos where I have a \"Flex\" Player (the default in DraftKings).\n",
    "\n",
    "In other words, I am allowed to add an additional player, regardless of the player's position\n",
    "\n",
    "The solution is pretty simple. We run the algorithm 3 times (limits + 1 center, limits + 1 winger, limits + 1 defender). And we pick the solution with the highest amount. Since DraftKings does not do any live drafting (no worries about someone else taking our players), we don't need to draft from the middle.\n"
   ]
  },
  {
   "cell_type": "code",
   "execution_count": 43,
   "metadata": {},
   "outputs": [],
   "source": [
    "def draft_with_util(data_for_algo, cap, inc, limits):\n",
    "   \n",
    "    best_combo = ''\n",
    "    highest_points = -1\n",
    "    util_draft = ''\n",
    "    \n",
    "    ## If you get one extra center\n",
    "    \n",
    "    limits_extra_center = copy.deepcopy(limits)\n",
    "    limits_extra_center[\"C\"] += 1\n",
    "    results_extra_center = get_optimal_set(data_for_algo, cap, inc, limits_extra_center)\n",
    "    total_points_extra_center = sum([player[2] for player in results_extra_center])\n",
    "   \n",
    "    if total_points_extra_center > highest_points:\n",
    "        highest_points = total_points_extra_center\n",
    "        best_combo = results_extra_center\n",
    "        util_draft = \"Center\"\n",
    "    \n",
    "    print('Extra Center:', total_points_extra_center, 'expected points')\n",
    "\n",
    "    ## if you get one extra Wing    \n",
    "    limits_extra_wing = copy.deepcopy(limits)\n",
    "    limits_extra_wing[\"W\"] += 1\n",
    "    results_extra_wing = get_optimal_set(data_for_algo, cap, inc, limits_extra_wing)\n",
    "    total_points_extra_wing = sum([player[2] for player in results_extra_wing])\n",
    "\n",
    "    if total_points_extra_wing > highest_points:\n",
    "        highest_points = total_points_extra_wing\n",
    "        best_combo = results_extra_wing\n",
    "        util_draft = \"Wing\"\n",
    "\n",
    "    print('Extra Wing:', total_points_extra_wing, 'expected points')\n",
    "\n",
    "    ## if you get one extra Defender    \n",
    "    limits_extra_defender = copy.deepcopy(limits)\n",
    "    limits_extra_defender[\"D\"] += 1\n",
    "    \n",
    "    results_extra_defender = get_optimal_set(data_for_algo, cap, inc, limits_extra_defender)\n",
    "    total_points_extra_defender = sum([player[2] for player in results_extra_defender])\n",
    "\n",
    "    if total_points_extra_defender > highest_points:\n",
    "        highest_points = total_points_extra_defender\n",
    "        best_combo = results_extra_defender\n",
    "        util_draft = \"Defender\"\n",
    "\n",
    "    print('Extra Defender:', total_points_extra_defender, 'expected points')\n",
    "\n",
    "\n",
    "    ## We get the best option from our \n",
    "    best_option = max(total_points_dict, key=total_points_dict.get)\n",
    "    print(\"The Util should be used for an aditional\", util_draft)\n",
    "    return best_combo, highest_points\n"
   ]
  },
  {
   "cell_type": "code",
   "execution_count": 44,
   "metadata": {},
   "outputs": [
    {
     "name": "stdout",
     "output_type": "stream",
     "text": [
      "Extra Center: 126.07 expected points\n",
      "Extra Wing: 126.38999999999999 expected points\n",
      "Extra Defender: 125.38 expected points\n",
      "The Util should be used for an aditional Wing\n"
     ]
    },
    {
     "data": {
      "text/plain": [
       "([('Brandon Tanev', 2700, 7.99, 'W'),\n",
       "  ('Samuel Girard', 3800, 9.95, 'D'),\n",
       "  (\"Logan O'Connor\", 3900, 9.65, 'W'),\n",
       "  ('Devon Toews', 4800, 11.2, 'D'),\n",
       "  ('Nazem Kadri', 5100, 12.08, 'C'),\n",
       "  ('J.T. Miller', 5200, 12.29, 'C'),\n",
       "  ('Zach Fucale', 7600, 24.7, 'G'),\n",
       "  ('Patrick Kane', 7800, 17.8, 'W'),\n",
       "  ('Alex Ovechkin', 9100, 20.73, 'W')],\n",
       " 126.38999999999999)"
      ]
     },
     "execution_count": 44,
     "metadata": {},
     "output_type": "execute_result"
    }
   ],
   "source": [
    "limits = {\"C\": 2,\"W\": 3 ,\"D\" : 2,\"G\": 1}\n",
    "draft_with_util(data_for_algo, 50000, 100, limits)"
   ]
  },
  {
   "cell_type": "markdown",
   "metadata": {},
   "source": [
    "# Part 5 Draft with the same setup as DraftKings (1 util, IR list)\n",
    "\n",
    "Finally, Draft Kings provides you with a list of players that are listed on the injury reserve. This version preemptively "
   ]
  },
  {
   "cell_type": "code",
   "execution_count": 59,
   "metadata": {},
   "outputs": [],
   "source": [
    "def draft_with_util_and_ir(data_for_algo, cap, inc, limits, ir_list):\n",
    "    remaining_players = [player for player in data_for_algo if player[0] not in ir_list]    \n",
    "    results = draft_with_util(remaining_players, cap, inc, limits)\n",
    "    return results\n",
    "    "
   ]
  },
  {
   "cell_type": "code",
   "execution_count": 60,
   "metadata": {},
   "outputs": [
    {
     "name": "stdout",
     "output_type": "stream",
     "text": [
      "Extra Center: 118.78 expected points\n",
      "Extra Wing: 119.1 expected points\n",
      "Extra Defender: 118.09 expected points\n",
      "The Util should be used for an aditional Wing\n"
     ]
    },
    {
     "data": {
      "text/plain": [
       "([('Brandon Tanev', 2700, 7.99, 'W'),\n",
       "  ('Samuel Girard', 3800, 9.95, 'D'),\n",
       "  (\"Logan O'Connor\", 3900, 9.65, 'W'),\n",
       "  ('Devon Toews', 4800, 11.2, 'D'),\n",
       "  ('Nazem Kadri', 5100, 12.08, 'C'),\n",
       "  ('J.T. Miller', 5200, 12.29, 'C'),\n",
       "  ('Jonathan Quick', 7600, 17.41, 'G'),\n",
       "  ('Patrick Kane', 7800, 17.8, 'W'),\n",
       "  ('Alex Ovechkin', 9100, 20.73, 'W')],\n",
       " 119.1)"
      ]
     },
     "execution_count": 60,
     "metadata": {},
     "output_type": "execute_result"
    }
   ],
   "source": [
    "limits = {\"C\": 2,\"W\": 3 ,\"D\" : 2,\"G\": 1}\n",
    "ir_list = ['Nathan MacKinnon','Pavel Francouz','Drew Doughty',\"Zach Fucale\"]\n",
    "draft_with_util_and_ir(data_for_algo,50000,100,limits, ir_list)"
   ]
  },
  {
   "cell_type": "code",
   "execution_count": null,
   "metadata": {},
   "outputs": [],
   "source": []
  }
 ],
 "metadata": {
  "kernelspec": {
   "display_name": "Python 3",
   "language": "python",
   "name": "python3"
  },
  "language_info": {
   "codemirror_mode": {
    "name": "ipython",
    "version": 3
   },
   "file_extension": ".py",
   "mimetype": "text/x-python",
   "name": "python",
   "nbconvert_exporter": "python",
   "pygments_lexer": "ipython3",
   "version": "3.8.5"
  }
 },
 "nbformat": 4,
 "nbformat_minor": 4
}
