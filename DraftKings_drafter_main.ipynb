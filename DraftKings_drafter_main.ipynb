{
 "cells": [
  {
   "cell_type": "markdown",
   "metadata": {},
   "source": [
    "# Daily Fantasy Hockey Draft Optimizer\n",
    "\n",
    "We treat fantasy sports draft as a variant of the classic knapsack problem (maximizing points under the constraints of cost and roster limits) and solves it using a dynamic programming algorithm.\n",
    "\n",
    "The data cleaning function accepts a path for a downloaded DraftKings dataset (no modifications needed).\n",
    "\n",
    "The drafting function needs your cleaned data, the total salary cap, the increment for your algorithm, your roster limits, a list of your injured players, and a list of players you don't want."
   ]
  },
  {
   "cell_type": "code",
   "execution_count": 1,
   "metadata": {},
   "outputs": [
    {
     "name": "stdout",
     "output_type": "stream",
     "text": [
      "example entry: ['Nathan MacKinnon', 8700, 14.45, 'C']\n",
      "Extra Center: 113.17 expected points\n",
      "Extra Wing: 114.28 expected points\n",
      "Extra Defender: 113.60000000000001 expected points\n",
      "The Util should be used for an aditional Wing\n"
     ]
    },
    {
     "data": {
      "text/plain": [
       "([('Erik Johnson', 3200, 8.37, 'D'),\n",
       "  ('Samuel Girard', 4100, 9.56, 'D'),\n",
       "  ('Andrew Copp', 5000, 11.78, 'W'),\n",
       "  ('J.T. Miller', 5100, 11.82, 'W'),\n",
       "  ('Jordan Eberle', 5500, 11.91, 'W'),\n",
       "  ('Pierre-Luc Dubois', 5500, 13.15, 'C'),\n",
       "  ('Nazem Kadri', 6000, 13.61, 'C'),\n",
       "  ('Kyle Connor', 7600, 19.08, 'W'),\n",
       "  ('Eric Comrie', 7800, 15.0, 'G')],\n",
       " 114.28)"
      ]
     },
     "execution_count": 1,
     "metadata": {},
     "output_type": "execute_result"
    }
   ],
   "source": [
    "from draft_functions import clean_dk_data, draft_algo_for_dk\n",
    "\n",
    "## load and transform our data, DraftKings lets you donwload their data, this function uses that down\n",
    "draft_kings_file = \"Data/DKSalaries_11_19_21.csv\"\n",
    "data = clean_dk_data(draft_kings_file)\n",
    "\n",
    "## define our position limits, ir list, and players that we don't want\n",
    "limits = {\"C\": 2,\"W\": 3 ,\"D\" : 2,\"G\": 1}\n",
    "ir_list = ['Nathan MacKinnon','Pavel Francouz','Drew Doughty','Max Pacioretty', \"Connor Hellebuyck\"]\n",
    "players_not_wanted = ['Michael Stone', 'Danny DeKeyser']\n",
    "\n",
    "## run our drafting algorithm\n",
    "draft_algo_for_dk(data, 50000,100,limits, ir_list, players_not_wanted)"
   ]
  }
 ],
 "metadata": {
  "kernelspec": {
   "display_name": "Python 3",
   "language": "python",
   "name": "python3"
  },
  "language_info": {
   "codemirror_mode": {
    "name": "ipython",
    "version": 3
   },
   "file_extension": ".py",
   "mimetype": "text/x-python",
   "name": "python",
   "nbconvert_exporter": "python",
   "pygments_lexer": "ipython3",
   "version": "3.8.5"
  }
 },
 "nbformat": 4,
 "nbformat_minor": 4
}
