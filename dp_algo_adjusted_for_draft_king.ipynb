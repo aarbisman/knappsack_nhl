{
 "cells": [
  {
   "cell_type": "code",
   "execution_count": 1,
   "metadata": {},
   "outputs": [],
   "source": [
    "import numpy as np\n",
    "import pandas as pd\n",
    "from decimal import Decimal, getcontext\n",
    "import time\n"
   ]
  },
  {
   "cell_type": "code",
   "execution_count": 2,
   "metadata": {},
   "outputs": [],
   "source": [
    "def printTable(table):\n",
    "    '''A simple way to display matrices in a more readable format'''\n",
    "    for i in table:\n",
    "        print(i)"
   ]
  },
  {
   "cell_type": "code",
   "execution_count": 3,
   "metadata": {},
   "outputs": [],
   "source": [
    "def evaluate_util(player_row):\n",
    "    if players[player_row -1][4] == True:\n",
    "        restOfROI_main_role = combos[(centers - 1, wings, defenders, goalies, utils)][player_row - 1][budget_interval - players[player_row - 1][1]]\n",
    "        restOfROI_util = combos[(centers, wings, defenders, goalies, utils - 1)][player_row - 1][budget_interval - players[player_row - 1][1]]"
   ]
  },
  {
   "cell_type": "code",
   "execution_count": 4,
   "metadata": {},
   "outputs": [],
   "source": [
    "def get_optimal_set(players_list, budget, inc, limits):\n",
    "    \n",
    "    ## first we divide all working money sums by the increment\n",
    "    \n",
    "    players = [[player[0], int(int(player[1])/inc), player[2], player[3]] for player in players_list]\n",
    "    \n",
    "    budget = int(budget / inc)\n",
    "    #for player in players:\n",
    "    #    player[1] = int(int(player[1]) / inc)\n",
    "\n",
    "        \n",
    "    nPlayers = len(players) \n",
    "    \n",
    "    combos = {}\n",
    "    combos_traceback = {}\n",
    "    \n",
    "    for centers in range(limits[\"C\"] + 1):\n",
    "        for wings in range(limits[\"W\"] + 1):\n",
    "            for defenders in range(limits[\"D\"] + 1):\n",
    "                for goalies in range(limits[\"G\"] + 1):\n",
    "                    combos[(centers, wings, defenders, goalies)] = [[-1 for i in range(budget + 1)] for i in range(nPlayers + 1)]\n",
    "                    combos_traceback[(centers, wings, defenders, goalies)] = [[None for i in range(budget + 1)] for i in range(nPlayers + 1)]\n",
    "                \n",
    "                \n",
    "    ## First, fill in the base case for 0 forwards, defenders, and goalies\n",
    "    combos[(0,0,0)] = [[-0 for i in range(budget + 1)] for i in range(nPlayers + 1)]\n",
    "    \n",
    "    ## Now we iterate through the combinations of forwards, defenders, and goalies\n",
    "    for centers in range(limits[\"C\"] + 1):\n",
    "        for wings in range(limits[\"W\"] + 1):\n",
    "            for defenders in range(limits[\"D\"] + 1):\n",
    "                for goalies in range(limits[\"G\"] + 1):\n",
    "                \n",
    "                \n",
    "                    roster_limits = {\"C\":centers,\"W\": wings ,\"D\":defenders ,\"G\": goalies}\n",
    "                    table = combos[(centers, wings, defenders, goalies)]\n",
    "                    traceback = combos_traceback[(centers, wings, defenders, goalies)]\n",
    "                \n",
    "                    ## Filling in the base case for 0 players to choose from\n",
    "                    for i in range(budget + 1):\n",
    "                        table[0][i] = 0\n",
    "                    \n",
    "                    ## Now we incrememnt through each player\n",
    "                    for player_row in range(1, nPlayers + 1):\n",
    "                    \n",
    "                        ## For each player, we increment through our budget\n",
    "                        for budget_interval in range(budget + 1):\n",
    "                        \n",
    "                            ##For each acceptable player, we see if we can afford the player and if we have roster space\n",
    "                            player_position = players[player_row -1][3]\n",
    "                            if roster_limits[player_position] > 0 and budget_interval >= players[player_row - 1][1]:\n",
    "                    \n",
    "                    \n",
    "                                ## We calculate the points\n",
    "                                points = players[player_row - 1][2]\n",
    "                        \n",
    "                                ## We look through previous dictionarys to find the rest of the ROI\n",
    "                                if player_position == \"C\":\n",
    "                                    restOfROI = combos[(centers - 1, wings, defenders, goalies)][player_row - 1][budget_interval - players[player_row - 1][1]]\n",
    "                                elif player_position == \"W\":\n",
    "                                    restOfROI = combos[(centers, wings -1 , defenders, goalies)][player_row - 1][budget_interval - players[player_row - 1][1]]\n",
    "                                elif player_position == \"D\":\n",
    "                                    restOfROI = combos[(centers, wings, defenders - 1, goalies)][player_row - 1][budget_interval - players[player_row - 1][1]]\n",
    "                                elif player_position == \"G\":\n",
    "                                    restOfROI = combos[(centers, wings, defenders, goalies - 1)][player_row - 1][budget_interval - players[player_row - 1][1]]\n",
    "                                \n",
    "                                        \n",
    "                                ## We compare it for the optimal value if we dont sign the player\n",
    "                                noSign = table[player_row - 1][budget_interval]\n",
    "                \n",
    "                                ## if signing the player generates more profit than not signing the player, then we add him to the table\n",
    "                                if points + restOfROI > noSign:\n",
    "                                    table[player_row][budget_interval] = points + restOfROI\n",
    "                                    traceback[player_row][budget_interval] = True\n",
    "                                \n",
    "                                else:\n",
    "                                    table[player_row][budget_interval] = noSign\n",
    "                                    traceback[player_row][budget_interval] = False\n",
    "                                \n",
    "                            ## if we cant afford the player or have roster room, we treat it as a noSign\n",
    "                            else:\n",
    "                                table[player_row][budget_interval] = table[player_row - 1][budget_interval]\n",
    "                                traceback[player_row][budget_interval] = False\n",
    "                            \n",
    "    ## To return the optimized investment portfolio, we create an empty return list\n",
    "    ## and initialize our item marker value, and a money iteration value\n",
    "    ret_list = []\n",
    "    val = nPlayers\n",
    "    i = -1\n",
    "    centers = limits[\"C\"]\n",
    "    wings = limits[\"W\"]\n",
    "    defenders = limits[\"D\"]\n",
    "    goalies = limits[\"G\"]\n",
    "    \n",
    "    ## we loop through our table until our value (signifying the current item) is at 0\n",
    "    while val > 0:\n",
    "        \n",
    "        ## If our traceback table tells us to buy the investment\n",
    "        if combos_traceback[(centers, wings, defenders, goalies )][val][i]:\n",
    "            \n",
    "            ## We record the player position\n",
    "            player_position = players[val - 1][3]\n",
    "            \n",
    "            ## We add our investment number, cost, and ROI to our output list\n",
    "            ret_list.append((players[val - 1][0], players[val - 1][1] * inc, players[val - 1][2], players[val - 1][3]))\n",
    "                            \n",
    "            ## We increment our money iteration value backwards by the amount that we \"spent\" on the investment\n",
    "            ## And increment our item marker value back by 1\n",
    "            ## and incrememnt back the roster space\n",
    "            i -= players[val - 1][1]\n",
    "            val -= 1\n",
    "            \n",
    "            if player_position == \"C\":\n",
    "                centers -= 1\n",
    "            if player_position == \"W\":\n",
    "                wings -= 1    \n",
    "            if player_position == \"D\":\n",
    "                defenders -= 1\n",
    "            elif player_position == \"G\":\n",
    "                goalies -= 1\n",
    "\n",
    "        \n",
    "        ## If our traceback table tells us to not buy the investment,\n",
    "        ## we simply increment our item marker value back by 1\n",
    "        else:\n",
    "            val -= 1\n",
    "    \n",
    "    \n",
    "    return ret_list#, combos, combos_traceback"
   ]
  },
  {
   "cell_type": "code",
   "execution_count": 5,
   "metadata": {},
   "outputs": [
    {
     "data": {
      "text/html": [
       "<div>\n",
       "<style scoped>\n",
       "    .dataframe tbody tr th:only-of-type {\n",
       "        vertical-align: middle;\n",
       "    }\n",
       "\n",
       "    .dataframe tbody tr th {\n",
       "        vertical-align: top;\n",
       "    }\n",
       "\n",
       "    .dataframe thead th {\n",
       "        text-align: right;\n",
       "    }\n",
       "</style>\n",
       "<table border=\"1\" class=\"dataframe\">\n",
       "  <thead>\n",
       "    <tr style=\"text-align: right;\">\n",
       "      <th></th>\n",
       "      <th>Position</th>\n",
       "      <th>Name</th>\n",
       "      <th>Salary</th>\n",
       "      <th>AvgPointsPerGame</th>\n",
       "    </tr>\n",
       "  </thead>\n",
       "  <tbody>\n",
       "    <tr>\n",
       "      <th>0</th>\n",
       "      <td>C</td>\n",
       "      <td>Nathan MacKinnon</td>\n",
       "      <td>9000</td>\n",
       "      <td>14.94</td>\n",
       "    </tr>\n",
       "    <tr>\n",
       "      <th>1</th>\n",
       "      <td>W</td>\n",
       "      <td>David Pastrnak</td>\n",
       "      <td>8800</td>\n",
       "      <td>20.52</td>\n",
       "    </tr>\n",
       "    <tr>\n",
       "      <th>2</th>\n",
       "      <td>G</td>\n",
       "      <td>Tuukka Rask</td>\n",
       "      <td>8200</td>\n",
       "      <td>12.19</td>\n",
       "    </tr>\n",
       "    <tr>\n",
       "      <th>3</th>\n",
       "      <td>G</td>\n",
       "      <td>Jaroslav Halak</td>\n",
       "      <td>8200</td>\n",
       "      <td>14.10</td>\n",
       "    </tr>\n",
       "    <tr>\n",
       "      <th>4</th>\n",
       "      <td>G</td>\n",
       "      <td>Callum Booth</td>\n",
       "      <td>8000</td>\n",
       "      <td>0.00</td>\n",
       "    </tr>\n",
       "  </tbody>\n",
       "</table>\n",
       "</div>"
      ],
      "text/plain": [
       "  Position              Name  Salary  AvgPointsPerGame\n",
       "0        C  Nathan MacKinnon    9000             14.94\n",
       "1        W    David Pastrnak    8800             20.52\n",
       "2        G       Tuukka Rask    8200             12.19\n",
       "3        G    Jaroslav Halak    8200             14.10\n",
       "4        G      Callum Booth    8000              0.00"
      ]
     },
     "execution_count": 5,
     "metadata": {},
     "output_type": "execute_result"
    }
   ],
   "source": [
    "players_df = pd.read_csv(\"DKSalaries_2_25.csv\")\n",
    "players_df[\"Position\"] = players_df[\"Roster Position\"].str[0]\n",
    "players_df = players_df.drop(columns=[\"Name + ID\",\"ID\",\"Game Info\",\"TeamAbbrev\", \"Roster Position\"])\n",
    "players_df.head()"
   ]
  },
  {
   "cell_type": "code",
   "execution_count": 6,
   "metadata": {},
   "outputs": [
    {
     "data": {
      "text/plain": [
       "['Nathan MacKinnon', 9000, 14.94, 'C']"
      ]
     },
     "execution_count": 6,
     "metadata": {},
     "output_type": "execute_result"
    }
   ],
   "source": [
    "data_for_algo = players_df[[\"Name\", \"Salary\", \"AvgPointsPerGame\", \"Position\"]].values.tolist()\n",
    "data_for_algo[0]"
   ]
  },
  {
   "cell_type": "code",
   "execution_count": 7,
   "metadata": {},
   "outputs": [],
   "source": [
    "limits = {\"C\": 2,\"W\": 3 ,\"D\" : 2,\"G\": 1}\n",
    "results = get_optimal_set(data_for_algo, 50000, 100, limits)"
   ]
  },
  {
   "cell_type": "code",
   "execution_count": 8,
   "metadata": {},
   "outputs": [
    {
     "data": {
      "text/plain": [
       "[('Arthur Kaliyev', 2500, 11.3, 'W'),\n",
       " ('Urho Vaakanainen', 3100, 10.8, 'D'),\n",
       " ('Mats Zuccarello', 4700, 14.32, 'W'),\n",
       " ('Devon Toews', 5600, 11.85, 'D'),\n",
       " ('Calvin Petersen', 7200, 16.52, 'G'),\n",
       " ('Patrice Bergeron', 7900, 15.16, 'C'),\n",
       " ('David Pastrnak', 8800, 20.52, 'W'),\n",
       " ('Nathan MacKinnon', 9000, 14.94, 'C')]"
      ]
     },
     "execution_count": 8,
     "metadata": {},
     "output_type": "execute_result"
    }
   ],
   "source": [
    "results"
   ]
  },
  {
   "cell_type": "code",
   "execution_count": 9,
   "metadata": {},
   "outputs": [
    {
     "name": "stdout",
     "output_type": "stream",
     "text": [
      "48800 115.41\n"
     ]
    }
   ],
   "source": [
    "cap = 0\n",
    "points = 0\n",
    "for player in results:\n",
    "    cap += player[1]\n",
    "    points += player[2]\n",
    "    \n",
    "print(cap, points)"
   ]
  },
  {
   "cell_type": "code",
   "execution_count": 110,
   "metadata": {},
   "outputs": [],
   "source": [
    "players = data_for_algo\n",
    "taken_by_other = []\n",
    "selected = []\n",
    "remaining_players = [player for player in players if player not in taken_by_other or player in selected]"
   ]
  },
  {
   "cell_type": "code",
   "execution_count": 111,
   "metadata": {},
   "outputs": [
    {
     "data": {
      "text/plain": [
       "['Nathan MacKinnon', 9000, 14.94, 'C']"
      ]
     },
     "execution_count": 111,
     "metadata": {},
     "output_type": "execute_result"
    }
   ],
   "source": [
    "remaining_players[0]"
   ]
  },
  {
   "cell_type": "code",
   "execution_count": 112,
   "metadata": {},
   "outputs": [],
   "source": [
    "def get_player_info(players, target):\n",
    "    for player in players:\n",
    "        if player[0] == target:\n",
    "            return(player)"
   ]
  },
  {
   "cell_type": "code",
   "execution_count": 113,
   "metadata": {},
   "outputs": [],
   "source": [
    "def draft_from_middle(players, already_selected, players_taken_by_other, budget, inc, limits):\n",
    "    \n",
    "    for selected_player in already_selected:\n",
    "        player_info = get_player_info(players, selected_player)\n",
    "        budget = budget - player_info[1]\n",
    "        limits[player_info[3]] -= 1\n",
    "    \n",
    "    \n",
    "    remaining_players = [player for player in players if player[0] not in players_taken_by_other]    \n",
    "        \n",
    "    remaining_players = [player for player in remaining_players if player[0] not in already_selected]    \n",
    "    \n",
    "    remaining_draft = get_optimal_set(remaining_players, budget, inc, limits)\n",
    "    \n",
    "    for already_selected_player in already_selected:\n",
    "        remaining_draft += [get_player_info(players, already_selected_player)]\n",
    "    \n",
    "    return remaining_draft\n",
    "    "
   ]
  },
  {
   "cell_type": "code",
   "execution_count": 114,
   "metadata": {},
   "outputs": [],
   "source": [
    "players = players_df[[\"Name\", \"Salary\", \"AvgPointsPerGame\", \"Position\"]].values.tolist()\n",
    "\n",
    "already_selected = ['Nathan MacKinnon']\n",
    "players_taken_by_other = ['David Pastrnak']\n",
    "limits = {\"C\": 2,\"W\": 3 ,\"D\" : 2,\"G\": 1}\n",
    "\n",
    "\n",
    "mid_draft = draft_from_middle(players, already_selected, players_taken_by_other, 50000, 100, limits)"
   ]
  },
  {
   "cell_type": "code",
   "execution_count": 115,
   "metadata": {},
   "outputs": [
    {
     "data": {
      "text/plain": [
       "[('Arthur Kaliyev', 2500, 11.3, 'W'),\n",
       " ('Mats Zuccarello', 4700, 14.32, 'W'),\n",
       " ('Devon Toews', 5600, 11.85, 'D'),\n",
       " ('Jakob Chychrun', 6300, 11.72, 'D'),\n",
       " ('Artemi Panarin', 6400, 13.46, 'W'),\n",
       " ('Calvin Petersen', 7200, 16.52, 'G'),\n",
       " ('Patrice Bergeron', 7900, 15.16, 'C'),\n",
       " ['Nathan MacKinnon', 9000, 14.94, 'C']]"
      ]
     },
     "execution_count": 115,
     "metadata": {},
     "output_type": "execute_result"
    }
   ],
   "source": [
    "mid_draft"
   ]
  },
  {
   "cell_type": "code",
   "execution_count": null,
   "metadata": {},
   "outputs": [],
   "source": []
  },
  {
   "cell_type": "code",
   "execution_count": 159,
   "metadata": {},
   "outputs": [
    {
     "name": "stdout",
     "output_type": "stream",
     "text": [
      "--- 9.069542407989502 seconds ---\n",
      "--- 8.352576971054077 seconds ---\n",
      "--- 8.951764583587646 seconds ---\n"
     ]
    }
   ],
   "source": [
    "## If you get one extra center\n",
    "start_time = time.time()\n",
    "limits_extra_center = {\"C\": 3,\"W\": 3 ,\"D\" : 2,\"G\": 1}\n",
    "results_extra_center = get_optimal_set(data_for_algo, 50000, 100, limits_extra_center)\n",
    "print(\"--- %s seconds ---\" % (time.time() - start_time))\n",
    "\n",
    "## if you get one extra Wing\n",
    "start_time = time.time()\n",
    "limits_extra_wing = {\"C\": 2,\"W\": 4 ,\"D\" : 2,\"G\": 1}\n",
    "results_extra_wing = get_optimal_set(data_for_algo, 50000, 100, limits_extra_wing)\n",
    "print(\"--- %s seconds ---\" % (time.time() - start_time))\n",
    "\n",
    "## if you get one extra Defender\n",
    "start_time = time.time()\n",
    "limits_extra_defender ={\"C\": 2,\"W\": 3 ,\"D\" : 3,\"G\": 1}\n",
    "results_extra_defender = get_optimal_set(data_for_algo, 50000, 100, limits_extra_defender)\n",
    "print(\"--- %s seconds ---\" % (time.time() - start_time))"
   ]
  },
  {
   "cell_type": "code",
   "execution_count": 168,
   "metadata": {},
   "outputs": [
    {
     "data": {
      "text/plain": [
       "[('Arthur Kaliyev', 2500, 11.3, 'W'),\n",
       " ('Urho Vaakanainen', 3100, 10.8, 'D'),\n",
       " ('Ryan Strome', 4400, 8.26, 'C'),\n",
       " ('Mats Zuccarello', 4700, 14.32, 'W'),\n",
       " ('Devon Toews', 5600, 11.85, 'D'),\n",
       " ('Anze Kopitar', 5700, 11.37, 'C'),\n",
       " ('Calvin Petersen', 7200, 16.52, 'G'),\n",
       " ('Patrice Bergeron', 7900, 15.16, 'C'),\n",
       " ('David Pastrnak', 8800, 20.52, 'W')]"
      ]
     },
     "execution_count": 168,
     "metadata": {},
     "output_type": "execute_result"
    }
   ],
   "source": [
    "results_extra_center"
   ]
  },
  {
   "cell_type": "code",
   "execution_count": 167,
   "metadata": {},
   "outputs": [
    {
     "name": "stdout",
     "output_type": "stream",
     "text": [
      "49500 122.19\n"
     ]
    }
   ],
   "source": [
    "cap = 0\n",
    "points = 0\n",
    "for player in results_extra_wing:\n",
    "    cap += player[1]\n",
    "    points += player[2]\n",
    "    \n",
    "print(cap, points)"
   ]
  },
  {
   "cell_type": "code",
   "execution_count": null,
   "metadata": {},
   "outputs": [],
   "source": []
  }
 ],
 "metadata": {
  "kernelspec": {
   "display_name": "Python 3",
   "language": "python",
   "name": "python3"
  },
  "language_info": {
   "codemirror_mode": {
    "name": "ipython",
    "version": 3
   },
   "file_extension": ".py",
   "mimetype": "text/x-python",
   "name": "python",
   "nbconvert_exporter": "python",
   "pygments_lexer": "ipython3",
   "version": "3.8.5"
  }
 },
 "nbformat": 4,
 "nbformat_minor": 4
}
